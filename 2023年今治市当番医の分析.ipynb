{
  "nbformat": 4,
  "nbformat_minor": 0,
  "metadata": {
    "colab": {
      "provenance": [],
      "authorship_tag": "ABX9TyNaeWX2GV1qMsZebzzJV9ei",
      "include_colab_link": true
    },
    "kernelspec": {
      "name": "python3",
      "display_name": "Python 3"
    },
    "language_info": {
      "name": "python"
    }
  },
  "cells": [
    {
      "cell_type": "markdown",
      "metadata": {
        "id": "view-in-github",
        "colab_type": "text"
      },
      "source": [
        "<a href=\"https://colab.research.google.com/github/HB-enpitsu/99-imabari/blob/main/2023%E5%B9%B4%E4%BB%8A%E6%B2%BB%E5%B8%82%E5%BD%93%E7%95%AA%E5%8C%BB%E3%81%AE%E5%88%86%E6%9E%90.ipynb\" target=\"_parent\"><img src=\"https://colab.research.google.com/assets/colab-badge.svg\" alt=\"Open In Colab\"/></a>"
      ]
    },
    {
      "cell_type": "code",
      "source": [
        "# グラフを日本語化\n",
        "!pip install japanize-matplotlib"
      ],
      "metadata": {
        "colab": {
          "base_uri": "https://localhost:8080/"
        },
        "id": "hE3PEUH9GbJo",
        "outputId": "c8c8368d-6236-4857-ed6e-69af49a3a86e"
      },
      "execution_count": 1,
      "outputs": [
        {
          "output_type": "stream",
          "name": "stdout",
          "text": [
            "Collecting japanize-matplotlib\n",
            "  Downloading japanize-matplotlib-1.1.3.tar.gz (4.1 MB)\n",
            "\u001b[2K     \u001b[90m━━━━━━━━━━━━━━━━━━━━━━━━━━━━━━━━━━━━━━━━\u001b[0m \u001b[32m4.1/4.1 MB\u001b[0m \u001b[31m14.9 MB/s\u001b[0m eta \u001b[36m0:00:00\u001b[0m\n",
            "\u001b[?25h  Preparing metadata (setup.py) ... \u001b[?25l\u001b[?25hdone\n",
            "Requirement already satisfied: matplotlib in /usr/local/lib/python3.10/dist-packages (from japanize-matplotlib) (3.7.1)\n",
            "Requirement already satisfied: contourpy>=1.0.1 in /usr/local/lib/python3.10/dist-packages (from matplotlib->japanize-matplotlib) (1.1.0)\n",
            "Requirement already satisfied: cycler>=0.10 in /usr/local/lib/python3.10/dist-packages (from matplotlib->japanize-matplotlib) (0.11.0)\n",
            "Requirement already satisfied: fonttools>=4.22.0 in /usr/local/lib/python3.10/dist-packages (from matplotlib->japanize-matplotlib) (4.41.1)\n",
            "Requirement already satisfied: kiwisolver>=1.0.1 in /usr/local/lib/python3.10/dist-packages (from matplotlib->japanize-matplotlib) (1.4.4)\n",
            "Requirement already satisfied: numpy>=1.20 in /usr/local/lib/python3.10/dist-packages (from matplotlib->japanize-matplotlib) (1.22.4)\n",
            "Requirement already satisfied: packaging>=20.0 in /usr/local/lib/python3.10/dist-packages (from matplotlib->japanize-matplotlib) (23.1)\n",
            "Requirement already satisfied: pillow>=6.2.0 in /usr/local/lib/python3.10/dist-packages (from matplotlib->japanize-matplotlib) (9.4.0)\n",
            "Requirement already satisfied: pyparsing>=2.3.1 in /usr/local/lib/python3.10/dist-packages (from matplotlib->japanize-matplotlib) (3.1.0)\n",
            "Requirement already satisfied: python-dateutil>=2.7 in /usr/local/lib/python3.10/dist-packages (from matplotlib->japanize-matplotlib) (2.8.2)\n",
            "Requirement already satisfied: six>=1.5 in /usr/local/lib/python3.10/dist-packages (from python-dateutil>=2.7->matplotlib->japanize-matplotlib) (1.16.0)\n",
            "Building wheels for collected packages: japanize-matplotlib\n",
            "  Building wheel for japanize-matplotlib (setup.py) ... \u001b[?25l\u001b[?25hdone\n",
            "  Created wheel for japanize-matplotlib: filename=japanize_matplotlib-1.1.3-py3-none-any.whl size=4120257 sha256=fb9a7f11d61243c5c2aa835d4a42b363941ba51e1b098b1f963c6f1e73513dcc\n",
            "  Stored in directory: /root/.cache/pip/wheels/61/7a/6b/df1f79be9c59862525070e157e62b08eab8ece27c1b68fbb94\n",
            "Successfully built japanize-matplotlib\n",
            "Installing collected packages: japanize-matplotlib\n",
            "Successfully installed japanize-matplotlib-1.1.3\n"
          ]
        }
      ]
    },
    {
      "cell_type": "code",
      "execution_count": 2,
      "metadata": {
        "id": "z3zmLVaPiM90"
      },
      "outputs": [],
      "source": [
        "import pandas as pd"
      ]
    },
    {
      "cell_type": "code",
      "source": [
        "import matplotlib.pyplot as plt\n",
        "import japanize_matplotlib"
      ],
      "metadata": {
        "id": "UFa__XEUGnqC"
      },
      "execution_count": 3,
      "outputs": []
    },
    {
      "cell_type": "code",
      "source": [
        "# 2023年の当番医（1月～8月）\n",
        "df0 = pd.read_csv(\"https://docs.google.com/spreadsheets/d/e/2PACX-1vSRZKRfVRduOBvLxgsWQIRIDIewt-VTuFxBln5fwzPCYTpSEpOYWCnbnM8hzBCz4OH-U9sdkRaiupL0/pub?gid=0&single=true&output=csv\")"
      ],
      "metadata": {
        "id": "O9qPgVHtiPbg"
      },
      "execution_count": 4,
      "outputs": []
    },
    {
      "cell_type": "code",
      "source": [
        "# 日付変換\n",
        "df0[\"date\"] = pd.to_datetime(df0[\"日付\"].str.extract(\"(?P<year>\\d{4})年(?P<month>\\d{1,2})月(?P<day>\\d{1,2})日\").astype(int))"
      ],
      "metadata": {
        "id": "jfsGqT2HiuUm"
      },
      "execution_count": 5,
      "outputs": []
    },
    {
      "cell_type": "code",
      "source": [
        "df0"
      ],
      "metadata": {
        "colab": {
          "base_uri": "https://localhost:8080/",
          "height": 424
        },
        "id": "4vjoJiUtRoxm",
        "outputId": "66477b0f-6145-45ba-8404-32db55c4b129"
      },
      "execution_count": 6,
      "outputs": [
        {
          "output_type": "execute_result",
          "data": {
            "text/plain": [
              "             日付   曜日           病院名               住所        TEL（昼）  \\\n",
              "0     2023年1月1日   祝日        瀬戸内海病院     今治市北宝来町２－４－９  0898-23-0655   \n",
              "1     2023年1月1日   祝日  まつうらバンビクリニック    今治市北宝来町３－３－３４  0898-22-0573   \n",
              "2     2023年1月1日   祝日         みぶ小児科  今治市北宝来町三丁目１番２７号  0898-23-7525   \n",
              "3     2023年1月1日   祝日          片山医院      今治市吉海町幸新田７１  0897-84-2620   \n",
              "4     2023年1月2日   祝日       済生会今治病院    今治市喜田村７丁目１番６号  0898-47-2500   \n",
              "..          ...  ...           ...              ...           ...   \n",
              "378  2023年8月28日  月曜日        瀬戸内海病院     今治市北宝来町２－４－９  0898-23-0655   \n",
              "379  2023年8月29日  火曜日       済生会今治病院    今治市喜田村７丁目１番６号  0898-47-2500   \n",
              "380  2023年8月30日  水曜日        県立今治病院      今治市石井町４－５－５  0898-32-7111   \n",
              "381  2023年8月30日  水曜日  今治セントラルクリニック    今治市松本町２丁目６番地６  0898-22-5251   \n",
              "382  2023年8月31日  木曜日        今治第一病院     今治市宮下町１―１―２１  0898-23-2000   \n",
              "\n",
              "           TEL（夜）  診療科目           日中             夜間       date  \n",
              "0             NaN  指定なし  08:30～17:30  17:30～翌日08:30 2023-01-01  \n",
              "1    0898-22-0573   小児科  09:00～17:00            NaN 2023-01-01  \n",
              "2             NaN   小児科  09:00～17:00            NaN 2023-01-01  \n",
              "3             NaN  指定なし  09:00～17:00            NaN 2023-01-01  \n",
              "4    0898-47-2500  指定なし  08:30～17:30  17:30～翌日08:30 2023-01-02  \n",
              "..            ...   ...          ...            ...        ...  \n",
              "378           NaN  指定なし  08:30～17:30  17:30～翌日08:30 2023-08-28  \n",
              "379  0898-47-2500  指定なし  08:30～17:30  17:30～翌日08:30 2023-08-29  \n",
              "380  0898-32-7111  指定なし  08:30～17:15  22:30～翌日08:30 2023-08-30  \n",
              "381  0898-34-0088  指定なし          NaN    17:15～22:30 2023-08-30  \n",
              "382           NaN  指定なし  08:30～17:30  17:30～翌日08:30 2023-08-31  \n",
              "\n",
              "[383 rows x 10 columns]"
            ],
            "text/html": [
              "\n",
              "\n",
              "  <div id=\"df-e30ff1b2-0cc3-4f31-b369-fb890a5763bc\">\n",
              "    <div class=\"colab-df-container\">\n",
              "      <div>\n",
              "<style scoped>\n",
              "    .dataframe tbody tr th:only-of-type {\n",
              "        vertical-align: middle;\n",
              "    }\n",
              "\n",
              "    .dataframe tbody tr th {\n",
              "        vertical-align: top;\n",
              "    }\n",
              "\n",
              "    .dataframe thead th {\n",
              "        text-align: right;\n",
              "    }\n",
              "</style>\n",
              "<table border=\"1\" class=\"dataframe\">\n",
              "  <thead>\n",
              "    <tr style=\"text-align: right;\">\n",
              "      <th></th>\n",
              "      <th>日付</th>\n",
              "      <th>曜日</th>\n",
              "      <th>病院名</th>\n",
              "      <th>住所</th>\n",
              "      <th>TEL（昼）</th>\n",
              "      <th>TEL（夜）</th>\n",
              "      <th>診療科目</th>\n",
              "      <th>日中</th>\n",
              "      <th>夜間</th>\n",
              "      <th>date</th>\n",
              "    </tr>\n",
              "  </thead>\n",
              "  <tbody>\n",
              "    <tr>\n",
              "      <th>0</th>\n",
              "      <td>2023年1月1日</td>\n",
              "      <td>祝日</td>\n",
              "      <td>瀬戸内海病院</td>\n",
              "      <td>今治市北宝来町２－４－９</td>\n",
              "      <td>0898-23-0655</td>\n",
              "      <td>NaN</td>\n",
              "      <td>指定なし</td>\n",
              "      <td>08:30～17:30</td>\n",
              "      <td>17:30～翌日08:30</td>\n",
              "      <td>2023-01-01</td>\n",
              "    </tr>\n",
              "    <tr>\n",
              "      <th>1</th>\n",
              "      <td>2023年1月1日</td>\n",
              "      <td>祝日</td>\n",
              "      <td>まつうらバンビクリニック</td>\n",
              "      <td>今治市北宝来町３－３－３４</td>\n",
              "      <td>0898-22-0573</td>\n",
              "      <td>0898-22-0573</td>\n",
              "      <td>小児科</td>\n",
              "      <td>09:00～17:00</td>\n",
              "      <td>NaN</td>\n",
              "      <td>2023-01-01</td>\n",
              "    </tr>\n",
              "    <tr>\n",
              "      <th>2</th>\n",
              "      <td>2023年1月1日</td>\n",
              "      <td>祝日</td>\n",
              "      <td>みぶ小児科</td>\n",
              "      <td>今治市北宝来町三丁目１番２７号</td>\n",
              "      <td>0898-23-7525</td>\n",
              "      <td>NaN</td>\n",
              "      <td>小児科</td>\n",
              "      <td>09:00～17:00</td>\n",
              "      <td>NaN</td>\n",
              "      <td>2023-01-01</td>\n",
              "    </tr>\n",
              "    <tr>\n",
              "      <th>3</th>\n",
              "      <td>2023年1月1日</td>\n",
              "      <td>祝日</td>\n",
              "      <td>片山医院</td>\n",
              "      <td>今治市吉海町幸新田７１</td>\n",
              "      <td>0897-84-2620</td>\n",
              "      <td>NaN</td>\n",
              "      <td>指定なし</td>\n",
              "      <td>09:00～17:00</td>\n",
              "      <td>NaN</td>\n",
              "      <td>2023-01-01</td>\n",
              "    </tr>\n",
              "    <tr>\n",
              "      <th>4</th>\n",
              "      <td>2023年1月2日</td>\n",
              "      <td>祝日</td>\n",
              "      <td>済生会今治病院</td>\n",
              "      <td>今治市喜田村７丁目１番６号</td>\n",
              "      <td>0898-47-2500</td>\n",
              "      <td>0898-47-2500</td>\n",
              "      <td>指定なし</td>\n",
              "      <td>08:30～17:30</td>\n",
              "      <td>17:30～翌日08:30</td>\n",
              "      <td>2023-01-02</td>\n",
              "    </tr>\n",
              "    <tr>\n",
              "      <th>...</th>\n",
              "      <td>...</td>\n",
              "      <td>...</td>\n",
              "      <td>...</td>\n",
              "      <td>...</td>\n",
              "      <td>...</td>\n",
              "      <td>...</td>\n",
              "      <td>...</td>\n",
              "      <td>...</td>\n",
              "      <td>...</td>\n",
              "      <td>...</td>\n",
              "    </tr>\n",
              "    <tr>\n",
              "      <th>378</th>\n",
              "      <td>2023年8月28日</td>\n",
              "      <td>月曜日</td>\n",
              "      <td>瀬戸内海病院</td>\n",
              "      <td>今治市北宝来町２－４－９</td>\n",
              "      <td>0898-23-0655</td>\n",
              "      <td>NaN</td>\n",
              "      <td>指定なし</td>\n",
              "      <td>08:30～17:30</td>\n",
              "      <td>17:30～翌日08:30</td>\n",
              "      <td>2023-08-28</td>\n",
              "    </tr>\n",
              "    <tr>\n",
              "      <th>379</th>\n",
              "      <td>2023年8月29日</td>\n",
              "      <td>火曜日</td>\n",
              "      <td>済生会今治病院</td>\n",
              "      <td>今治市喜田村７丁目１番６号</td>\n",
              "      <td>0898-47-2500</td>\n",
              "      <td>0898-47-2500</td>\n",
              "      <td>指定なし</td>\n",
              "      <td>08:30～17:30</td>\n",
              "      <td>17:30～翌日08:30</td>\n",
              "      <td>2023-08-29</td>\n",
              "    </tr>\n",
              "    <tr>\n",
              "      <th>380</th>\n",
              "      <td>2023年8月30日</td>\n",
              "      <td>水曜日</td>\n",
              "      <td>県立今治病院</td>\n",
              "      <td>今治市石井町４－５－５</td>\n",
              "      <td>0898-32-7111</td>\n",
              "      <td>0898-32-7111</td>\n",
              "      <td>指定なし</td>\n",
              "      <td>08:30～17:15</td>\n",
              "      <td>22:30～翌日08:30</td>\n",
              "      <td>2023-08-30</td>\n",
              "    </tr>\n",
              "    <tr>\n",
              "      <th>381</th>\n",
              "      <td>2023年8月30日</td>\n",
              "      <td>水曜日</td>\n",
              "      <td>今治セントラルクリニック</td>\n",
              "      <td>今治市松本町２丁目６番地６</td>\n",
              "      <td>0898-22-5251</td>\n",
              "      <td>0898-34-0088</td>\n",
              "      <td>指定なし</td>\n",
              "      <td>NaN</td>\n",
              "      <td>17:15～22:30</td>\n",
              "      <td>2023-08-30</td>\n",
              "    </tr>\n",
              "    <tr>\n",
              "      <th>382</th>\n",
              "      <td>2023年8月31日</td>\n",
              "      <td>木曜日</td>\n",
              "      <td>今治第一病院</td>\n",
              "      <td>今治市宮下町１―１―２１</td>\n",
              "      <td>0898-23-2000</td>\n",
              "      <td>NaN</td>\n",
              "      <td>指定なし</td>\n",
              "      <td>08:30～17:30</td>\n",
              "      <td>17:30～翌日08:30</td>\n",
              "      <td>2023-08-31</td>\n",
              "    </tr>\n",
              "  </tbody>\n",
              "</table>\n",
              "<p>383 rows × 10 columns</p>\n",
              "</div>\n",
              "      <button class=\"colab-df-convert\" onclick=\"convertToInteractive('df-e30ff1b2-0cc3-4f31-b369-fb890a5763bc')\"\n",
              "              title=\"Convert this dataframe to an interactive table.\"\n",
              "              style=\"display:none;\">\n",
              "\n",
              "  <svg xmlns=\"http://www.w3.org/2000/svg\" height=\"24px\"viewBox=\"0 0 24 24\"\n",
              "       width=\"24px\">\n",
              "    <path d=\"M0 0h24v24H0V0z\" fill=\"none\"/>\n",
              "    <path d=\"M18.56 5.44l.94 2.06.94-2.06 2.06-.94-2.06-.94-.94-2.06-.94 2.06-2.06.94zm-11 1L8.5 8.5l.94-2.06 2.06-.94-2.06-.94L8.5 2.5l-.94 2.06-2.06.94zm10 10l.94 2.06.94-2.06 2.06-.94-2.06-.94-.94-2.06-.94 2.06-2.06.94z\"/><path d=\"M17.41 7.96l-1.37-1.37c-.4-.4-.92-.59-1.43-.59-.52 0-1.04.2-1.43.59L10.3 9.45l-7.72 7.72c-.78.78-.78 2.05 0 2.83L4 21.41c.39.39.9.59 1.41.59.51 0 1.02-.2 1.41-.59l7.78-7.78 2.81-2.81c.8-.78.8-2.07 0-2.86zM5.41 20L4 18.59l7.72-7.72 1.47 1.35L5.41 20z\"/>\n",
              "  </svg>\n",
              "      </button>\n",
              "\n",
              "\n",
              "\n",
              "    <div id=\"df-67fc5ded-a21d-4ed9-8757-60f3999d5de7\">\n",
              "      <button class=\"colab-df-quickchart\" onclick=\"quickchart('df-67fc5ded-a21d-4ed9-8757-60f3999d5de7')\"\n",
              "              title=\"Suggest charts.\"\n",
              "              style=\"display:none;\">\n",
              "\n",
              "<svg xmlns=\"http://www.w3.org/2000/svg\" height=\"24px\"viewBox=\"0 0 24 24\"\n",
              "     width=\"24px\">\n",
              "    <g>\n",
              "        <path d=\"M19 3H5c-1.1 0-2 .9-2 2v14c0 1.1.9 2 2 2h14c1.1 0 2-.9 2-2V5c0-1.1-.9-2-2-2zM9 17H7v-7h2v7zm4 0h-2V7h2v10zm4 0h-2v-4h2v4z\"/>\n",
              "    </g>\n",
              "</svg>\n",
              "      </button>\n",
              "    </div>\n",
              "\n",
              "<style>\n",
              "  .colab-df-quickchart {\n",
              "    background-color: #E8F0FE;\n",
              "    border: none;\n",
              "    border-radius: 50%;\n",
              "    cursor: pointer;\n",
              "    display: none;\n",
              "    fill: #1967D2;\n",
              "    height: 32px;\n",
              "    padding: 0 0 0 0;\n",
              "    width: 32px;\n",
              "  }\n",
              "\n",
              "  .colab-df-quickchart:hover {\n",
              "    background-color: #E2EBFA;\n",
              "    box-shadow: 0px 1px 2px rgba(60, 64, 67, 0.3), 0px 1px 3px 1px rgba(60, 64, 67, 0.15);\n",
              "    fill: #174EA6;\n",
              "  }\n",
              "\n",
              "  [theme=dark] .colab-df-quickchart {\n",
              "    background-color: #3B4455;\n",
              "    fill: #D2E3FC;\n",
              "  }\n",
              "\n",
              "  [theme=dark] .colab-df-quickchart:hover {\n",
              "    background-color: #434B5C;\n",
              "    box-shadow: 0px 1px 3px 1px rgba(0, 0, 0, 0.15);\n",
              "    filter: drop-shadow(0px 1px 2px rgba(0, 0, 0, 0.3));\n",
              "    fill: #FFFFFF;\n",
              "  }\n",
              "</style>\n",
              "\n",
              "    <script>\n",
              "      async function quickchart(key) {\n",
              "        const containerElement = document.querySelector('#' + key);\n",
              "        const charts = await google.colab.kernel.invokeFunction(\n",
              "            'suggestCharts', [key], {});\n",
              "      }\n",
              "    </script>\n",
              "\n",
              "      <script>\n",
              "\n",
              "function displayQuickchartButton(domScope) {\n",
              "  let quickchartButtonEl =\n",
              "    domScope.querySelector('#df-67fc5ded-a21d-4ed9-8757-60f3999d5de7 button.colab-df-quickchart');\n",
              "  quickchartButtonEl.style.display =\n",
              "    google.colab.kernel.accessAllowed ? 'block' : 'none';\n",
              "}\n",
              "\n",
              "        displayQuickchartButton(document);\n",
              "      </script>\n",
              "      <style>\n",
              "    .colab-df-container {\n",
              "      display:flex;\n",
              "      flex-wrap:wrap;\n",
              "      gap: 12px;\n",
              "    }\n",
              "\n",
              "    .colab-df-convert {\n",
              "      background-color: #E8F0FE;\n",
              "      border: none;\n",
              "      border-radius: 50%;\n",
              "      cursor: pointer;\n",
              "      display: none;\n",
              "      fill: #1967D2;\n",
              "      height: 32px;\n",
              "      padding: 0 0 0 0;\n",
              "      width: 32px;\n",
              "    }\n",
              "\n",
              "    .colab-df-convert:hover {\n",
              "      background-color: #E2EBFA;\n",
              "      box-shadow: 0px 1px 2px rgba(60, 64, 67, 0.3), 0px 1px 3px 1px rgba(60, 64, 67, 0.15);\n",
              "      fill: #174EA6;\n",
              "    }\n",
              "\n",
              "    [theme=dark] .colab-df-convert {\n",
              "      background-color: #3B4455;\n",
              "      fill: #D2E3FC;\n",
              "    }\n",
              "\n",
              "    [theme=dark] .colab-df-convert:hover {\n",
              "      background-color: #434B5C;\n",
              "      box-shadow: 0px 1px 3px 1px rgba(0, 0, 0, 0.15);\n",
              "      filter: drop-shadow(0px 1px 2px rgba(0, 0, 0, 0.3));\n",
              "      fill: #FFFFFF;\n",
              "    }\n",
              "  </style>\n",
              "\n",
              "      <script>\n",
              "        const buttonEl =\n",
              "          document.querySelector('#df-e30ff1b2-0cc3-4f31-b369-fb890a5763bc button.colab-df-convert');\n",
              "        buttonEl.style.display =\n",
              "          google.colab.kernel.accessAllowed ? 'block' : 'none';\n",
              "\n",
              "        async function convertToInteractive(key) {\n",
              "          const element = document.querySelector('#df-e30ff1b2-0cc3-4f31-b369-fb890a5763bc');\n",
              "          const dataTable =\n",
              "            await google.colab.kernel.invokeFunction('convertToInteractive',\n",
              "                                                     [key], {});\n",
              "          if (!dataTable) return;\n",
              "\n",
              "          const docLinkHtml = 'Like what you see? Visit the ' +\n",
              "            '<a target=\"_blank\" href=https://colab.research.google.com/notebooks/data_table.ipynb>data table notebook</a>'\n",
              "            + ' to learn more about interactive tables.';\n",
              "          element.innerHTML = '';\n",
              "          dataTable['output_type'] = 'display_data';\n",
              "          await google.colab.output.renderOutput(dataTable, element);\n",
              "          const docLink = document.createElement('div');\n",
              "          docLink.innerHTML = docLinkHtml;\n",
              "          element.appendChild(docLink);\n",
              "        }\n",
              "      </script>\n",
              "    </div>\n",
              "  </div>\n"
            ]
          },
          "metadata": {},
          "execution_count": 6
        }
      ]
    },
    {
      "cell_type": "markdown",
      "source": [
        "## 曜日ごとの病院数をカウント"
      ],
      "metadata": {
        "id": "Jg9ydRetMlng"
      }
    },
    {
      "cell_type": "code",
      "source": [
        "# 日付ごとの病院数をカウント\n",
        "df1 = df0.groupby([\"date\", \"曜日\"]).size().rename(\"count\").reset_index()"
      ],
      "metadata": {
        "id": "dFg-vbcCk5BU"
      },
      "execution_count": 7,
      "outputs": []
    },
    {
      "cell_type": "code",
      "source": [
        "df1"
      ],
      "metadata": {
        "colab": {
          "base_uri": "https://localhost:8080/",
          "height": 424
        },
        "id": "kS4g2gdqHV6F",
        "outputId": "4128243b-2231-4cf0-b5a0-d01503461211"
      },
      "execution_count": 8,
      "outputs": [
        {
          "output_type": "execute_result",
          "data": {
            "text/plain": [
              "          date   曜日  count\n",
              "0   2023-01-01   祝日      4\n",
              "1   2023-01-02   祝日      2\n",
              "2   2023-01-03  火曜日      1\n",
              "3   2023-01-04  水曜日      1\n",
              "4   2023-01-05  木曜日      1\n",
              "..         ...  ...    ...\n",
              "238 2023-08-27  日曜日      4\n",
              "239 2023-08-28  月曜日      1\n",
              "240 2023-08-29  火曜日      1\n",
              "241 2023-08-30  水曜日      2\n",
              "242 2023-08-31  木曜日      1\n",
              "\n",
              "[243 rows x 3 columns]"
            ],
            "text/html": [
              "\n",
              "\n",
              "  <div id=\"df-18d9220b-5c49-484b-9f74-b861cd6535a0\">\n",
              "    <div class=\"colab-df-container\">\n",
              "      <div>\n",
              "<style scoped>\n",
              "    .dataframe tbody tr th:only-of-type {\n",
              "        vertical-align: middle;\n",
              "    }\n",
              "\n",
              "    .dataframe tbody tr th {\n",
              "        vertical-align: top;\n",
              "    }\n",
              "\n",
              "    .dataframe thead th {\n",
              "        text-align: right;\n",
              "    }\n",
              "</style>\n",
              "<table border=\"1\" class=\"dataframe\">\n",
              "  <thead>\n",
              "    <tr style=\"text-align: right;\">\n",
              "      <th></th>\n",
              "      <th>date</th>\n",
              "      <th>曜日</th>\n",
              "      <th>count</th>\n",
              "    </tr>\n",
              "  </thead>\n",
              "  <tbody>\n",
              "    <tr>\n",
              "      <th>0</th>\n",
              "      <td>2023-01-01</td>\n",
              "      <td>祝日</td>\n",
              "      <td>4</td>\n",
              "    </tr>\n",
              "    <tr>\n",
              "      <th>1</th>\n",
              "      <td>2023-01-02</td>\n",
              "      <td>祝日</td>\n",
              "      <td>2</td>\n",
              "    </tr>\n",
              "    <tr>\n",
              "      <th>2</th>\n",
              "      <td>2023-01-03</td>\n",
              "      <td>火曜日</td>\n",
              "      <td>1</td>\n",
              "    </tr>\n",
              "    <tr>\n",
              "      <th>3</th>\n",
              "      <td>2023-01-04</td>\n",
              "      <td>水曜日</td>\n",
              "      <td>1</td>\n",
              "    </tr>\n",
              "    <tr>\n",
              "      <th>4</th>\n",
              "      <td>2023-01-05</td>\n",
              "      <td>木曜日</td>\n",
              "      <td>1</td>\n",
              "    </tr>\n",
              "    <tr>\n",
              "      <th>...</th>\n",
              "      <td>...</td>\n",
              "      <td>...</td>\n",
              "      <td>...</td>\n",
              "    </tr>\n",
              "    <tr>\n",
              "      <th>238</th>\n",
              "      <td>2023-08-27</td>\n",
              "      <td>日曜日</td>\n",
              "      <td>4</td>\n",
              "    </tr>\n",
              "    <tr>\n",
              "      <th>239</th>\n",
              "      <td>2023-08-28</td>\n",
              "      <td>月曜日</td>\n",
              "      <td>1</td>\n",
              "    </tr>\n",
              "    <tr>\n",
              "      <th>240</th>\n",
              "      <td>2023-08-29</td>\n",
              "      <td>火曜日</td>\n",
              "      <td>1</td>\n",
              "    </tr>\n",
              "    <tr>\n",
              "      <th>241</th>\n",
              "      <td>2023-08-30</td>\n",
              "      <td>水曜日</td>\n",
              "      <td>2</td>\n",
              "    </tr>\n",
              "    <tr>\n",
              "      <th>242</th>\n",
              "      <td>2023-08-31</td>\n",
              "      <td>木曜日</td>\n",
              "      <td>1</td>\n",
              "    </tr>\n",
              "  </tbody>\n",
              "</table>\n",
              "<p>243 rows × 3 columns</p>\n",
              "</div>\n",
              "      <button class=\"colab-df-convert\" onclick=\"convertToInteractive('df-18d9220b-5c49-484b-9f74-b861cd6535a0')\"\n",
              "              title=\"Convert this dataframe to an interactive table.\"\n",
              "              style=\"display:none;\">\n",
              "\n",
              "  <svg xmlns=\"http://www.w3.org/2000/svg\" height=\"24px\"viewBox=\"0 0 24 24\"\n",
              "       width=\"24px\">\n",
              "    <path d=\"M0 0h24v24H0V0z\" fill=\"none\"/>\n",
              "    <path d=\"M18.56 5.44l.94 2.06.94-2.06 2.06-.94-2.06-.94-.94-2.06-.94 2.06-2.06.94zm-11 1L8.5 8.5l.94-2.06 2.06-.94-2.06-.94L8.5 2.5l-.94 2.06-2.06.94zm10 10l.94 2.06.94-2.06 2.06-.94-2.06-.94-.94-2.06-.94 2.06-2.06.94z\"/><path d=\"M17.41 7.96l-1.37-1.37c-.4-.4-.92-.59-1.43-.59-.52 0-1.04.2-1.43.59L10.3 9.45l-7.72 7.72c-.78.78-.78 2.05 0 2.83L4 21.41c.39.39.9.59 1.41.59.51 0 1.02-.2 1.41-.59l7.78-7.78 2.81-2.81c.8-.78.8-2.07 0-2.86zM5.41 20L4 18.59l7.72-7.72 1.47 1.35L5.41 20z\"/>\n",
              "  </svg>\n",
              "      </button>\n",
              "\n",
              "\n",
              "\n",
              "    <div id=\"df-f57dc1fe-e37c-469f-8efe-503d832e4f64\">\n",
              "      <button class=\"colab-df-quickchart\" onclick=\"quickchart('df-f57dc1fe-e37c-469f-8efe-503d832e4f64')\"\n",
              "              title=\"Suggest charts.\"\n",
              "              style=\"display:none;\">\n",
              "\n",
              "<svg xmlns=\"http://www.w3.org/2000/svg\" height=\"24px\"viewBox=\"0 0 24 24\"\n",
              "     width=\"24px\">\n",
              "    <g>\n",
              "        <path d=\"M19 3H5c-1.1 0-2 .9-2 2v14c0 1.1.9 2 2 2h14c1.1 0 2-.9 2-2V5c0-1.1-.9-2-2-2zM9 17H7v-7h2v7zm4 0h-2V7h2v10zm4 0h-2v-4h2v4z\"/>\n",
              "    </g>\n",
              "</svg>\n",
              "      </button>\n",
              "    </div>\n",
              "\n",
              "<style>\n",
              "  .colab-df-quickchart {\n",
              "    background-color: #E8F0FE;\n",
              "    border: none;\n",
              "    border-radius: 50%;\n",
              "    cursor: pointer;\n",
              "    display: none;\n",
              "    fill: #1967D2;\n",
              "    height: 32px;\n",
              "    padding: 0 0 0 0;\n",
              "    width: 32px;\n",
              "  }\n",
              "\n",
              "  .colab-df-quickchart:hover {\n",
              "    background-color: #E2EBFA;\n",
              "    box-shadow: 0px 1px 2px rgba(60, 64, 67, 0.3), 0px 1px 3px 1px rgba(60, 64, 67, 0.15);\n",
              "    fill: #174EA6;\n",
              "  }\n",
              "\n",
              "  [theme=dark] .colab-df-quickchart {\n",
              "    background-color: #3B4455;\n",
              "    fill: #D2E3FC;\n",
              "  }\n",
              "\n",
              "  [theme=dark] .colab-df-quickchart:hover {\n",
              "    background-color: #434B5C;\n",
              "    box-shadow: 0px 1px 3px 1px rgba(0, 0, 0, 0.15);\n",
              "    filter: drop-shadow(0px 1px 2px rgba(0, 0, 0, 0.3));\n",
              "    fill: #FFFFFF;\n",
              "  }\n",
              "</style>\n",
              "\n",
              "    <script>\n",
              "      async function quickchart(key) {\n",
              "        const containerElement = document.querySelector('#' + key);\n",
              "        const charts = await google.colab.kernel.invokeFunction(\n",
              "            'suggestCharts', [key], {});\n",
              "      }\n",
              "    </script>\n",
              "\n",
              "      <script>\n",
              "\n",
              "function displayQuickchartButton(domScope) {\n",
              "  let quickchartButtonEl =\n",
              "    domScope.querySelector('#df-f57dc1fe-e37c-469f-8efe-503d832e4f64 button.colab-df-quickchart');\n",
              "  quickchartButtonEl.style.display =\n",
              "    google.colab.kernel.accessAllowed ? 'block' : 'none';\n",
              "}\n",
              "\n",
              "        displayQuickchartButton(document);\n",
              "      </script>\n",
              "      <style>\n",
              "    .colab-df-container {\n",
              "      display:flex;\n",
              "      flex-wrap:wrap;\n",
              "      gap: 12px;\n",
              "    }\n",
              "\n",
              "    .colab-df-convert {\n",
              "      background-color: #E8F0FE;\n",
              "      border: none;\n",
              "      border-radius: 50%;\n",
              "      cursor: pointer;\n",
              "      display: none;\n",
              "      fill: #1967D2;\n",
              "      height: 32px;\n",
              "      padding: 0 0 0 0;\n",
              "      width: 32px;\n",
              "    }\n",
              "\n",
              "    .colab-df-convert:hover {\n",
              "      background-color: #E2EBFA;\n",
              "      box-shadow: 0px 1px 2px rgba(60, 64, 67, 0.3), 0px 1px 3px 1px rgba(60, 64, 67, 0.15);\n",
              "      fill: #174EA6;\n",
              "    }\n",
              "\n",
              "    [theme=dark] .colab-df-convert {\n",
              "      background-color: #3B4455;\n",
              "      fill: #D2E3FC;\n",
              "    }\n",
              "\n",
              "    [theme=dark] .colab-df-convert:hover {\n",
              "      background-color: #434B5C;\n",
              "      box-shadow: 0px 1px 3px 1px rgba(0, 0, 0, 0.15);\n",
              "      filter: drop-shadow(0px 1px 2px rgba(0, 0, 0, 0.3));\n",
              "      fill: #FFFFFF;\n",
              "    }\n",
              "  </style>\n",
              "\n",
              "      <script>\n",
              "        const buttonEl =\n",
              "          document.querySelector('#df-18d9220b-5c49-484b-9f74-b861cd6535a0 button.colab-df-convert');\n",
              "        buttonEl.style.display =\n",
              "          google.colab.kernel.accessAllowed ? 'block' : 'none';\n",
              "\n",
              "        async function convertToInteractive(key) {\n",
              "          const element = document.querySelector('#df-18d9220b-5c49-484b-9f74-b861cd6535a0');\n",
              "          const dataTable =\n",
              "            await google.colab.kernel.invokeFunction('convertToInteractive',\n",
              "                                                     [key], {});\n",
              "          if (!dataTable) return;\n",
              "\n",
              "          const docLinkHtml = 'Like what you see? Visit the ' +\n",
              "            '<a target=\"_blank\" href=https://colab.research.google.com/notebooks/data_table.ipynb>data table notebook</a>'\n",
              "            + ' to learn more about interactive tables.';\n",
              "          element.innerHTML = '';\n",
              "          dataTable['output_type'] = 'display_data';\n",
              "          await google.colab.output.renderOutput(dataTable, element);\n",
              "          const docLink = document.createElement('div');\n",
              "          docLink.innerHTML = docLinkHtml;\n",
              "          element.appendChild(docLink);\n",
              "        }\n",
              "      </script>\n",
              "    </div>\n",
              "  </div>\n"
            ]
          },
          "metadata": {},
          "execution_count": 8
        }
      ]
    },
    {
      "cell_type": "code",
      "source": [
        "# １日の病院数カウント数の要約統計量\n",
        "df1[\"count\"].describe()"
      ],
      "metadata": {
        "colab": {
          "base_uri": "https://localhost:8080/"
        },
        "id": "mWWK4o2xTmnJ",
        "outputId": "791447b7-a877-4a79-96a7-f2efda36e011"
      },
      "execution_count": 9,
      "outputs": [
        {
          "output_type": "execute_result",
          "data": {
            "text/plain": [
              "count    243.000000\n",
              "mean       1.576132\n",
              "std        0.956365\n",
              "min        1.000000\n",
              "25%        1.000000\n",
              "50%        1.000000\n",
              "75%        2.000000\n",
              "max        4.000000\n",
              "Name: count, dtype: float64"
            ]
          },
          "metadata": {},
          "execution_count": 9
        }
      ]
    },
    {
      "cell_type": "code",
      "source": [
        "# １日の病院数カウント数別に集計\n",
        "df1[\"count\"].value_counts()"
      ],
      "metadata": {
        "colab": {
          "base_uri": "https://localhost:8080/"
        },
        "id": "o5nZVhlmTINd",
        "outputId": "5ba04bb0-aecb-4138-fd0e-62f02de9d834"
      },
      "execution_count": 10,
      "outputs": [
        {
          "output_type": "execute_result",
          "data": {
            "text/plain": [
              "1    165\n",
              "2     35\n",
              "3     24\n",
              "4     19\n",
              "Name: count, dtype: int64"
            ]
          },
          "metadata": {},
          "execution_count": 10
        }
      ]
    },
    {
      "cell_type": "code",
      "source": [
        "df1[\"count\"].value_counts().plot.barh()"
      ],
      "metadata": {
        "colab": {
          "base_uri": "https://localhost:8080/",
          "height": 447
        },
        "id": "ET8BGzYIUW8H",
        "outputId": "58bbf8c3-b6a1-458f-d039-9ea4c36bf58b"
      },
      "execution_count": 11,
      "outputs": [
        {
          "output_type": "execute_result",
          "data": {
            "text/plain": [
              "<Axes: >"
            ]
          },
          "metadata": {},
          "execution_count": 11
        },
        {
          "output_type": "display_data",
          "data": {
            "text/plain": [
              "<Figure size 640x480 with 1 Axes>"
            ],
            "image/png": "[encoded data removed]"
          },
          "metadata": {}
        }
      ]
    },
    {
      "cell_type": "code",
      "source": [
        "# 曜日ごとの病院数（最小・最大・平均・中央値）\n",
        "df1.groupby(\"曜日\")[\"count\"].agg([min, max, \"mean\", \"median\"]).reindex(index=[\"月曜日\", \"火曜日\", \"水曜日\", \"木曜日\", \"金曜日\", \"土曜日\", \"日曜日\", \"祝日\"]).plot.barh(stacked=False)"
      ],
      "metadata": {
        "colab": {
          "base_uri": "https://localhost:8080/",
          "height": 447
        },
        "id": "k4xXoKiiElIo",
        "outputId": "1fcb8b96-10bd-420a-8520-070193040684"
      },
      "execution_count": 12,
      "outputs": [
        {
          "output_type": "execute_result",
          "data": {
            "text/plain": [
              "<Axes: ylabel='曜日'>"
            ]
          },
          "metadata": {},
          "execution_count": 12
        },
        {
          "output_type": "display_data",
          "data": {
            "text/plain": [
              "<Figure size 640x480 with 1 Axes>"
            ],
            "image/png": "[encoded data removed]"
          },
          "metadata": {}
        }
      ]
    },
    {
      "cell_type": "markdown",
      "source": [
        "## 診療科目ごとに当番医の回数をカウント"
      ],
      "metadata": {
        "id": "uvs7makzMs2u"
      }
    },
    {
      "cell_type": "code",
      "source": [
        "df2 = df0.copy()"
      ],
      "metadata": {
        "id": "nVnDzvdbIwcM"
      },
      "execution_count": 13,
      "outputs": []
    },
    {
      "cell_type": "code",
      "source": [
        "# 病院名のユニーク\n",
        "df2[\"病院名\"].unique()"
      ],
      "metadata": {
        "colab": {
          "base_uri": "https://localhost:8080/"
        },
        "id": "GK5qnlQeQnHg",
        "outputId": "4c461a57-ddf0-4ff7-fc69-80c03b8df048"
      },
      "execution_count": 14,
      "outputs": [
        {
          "output_type": "execute_result",
          "data": {
            "text/plain": [
              "array(['瀬戸内海病院', 'まつうらバンビクリニック', 'みぶ小児科', '片山医院', '済生会今治病院', 'はかた外科',\n",
              "       '県立今治病院', '今治第一病院', '白石病院', '木原病院', '今治市医師会市民病院', 'しのざき整形外科',\n",
              "       'あおい小児科', '医療法人\\u3000喜多嶋診療所', '丹こどもクリニック', '有津むらかみクリニック', '広瀬病院',\n",
              "       '大三島中央病院', '今治セントラルクリニック', '斎藤クリニック', '放射線第一病院', '松浦医院'],\n",
              "      dtype=object)"
            ]
          },
          "metadata": {},
          "execution_count": 14
        }
      ]
    },
    {
      "cell_type": "code",
      "source": [
        "# 住所が島の町名の場合、診療科目を島しょ部に変更\n",
        "df2[\"診療科目\"].mask(df2[\"住所\"].str.contains(\"吉海町|宮窪町|伯方町|上浦町|大三島町|関前\", na=False), \"島しょ部\", inplace=True)"
      ],
      "metadata": {
        "id": "YUa62tB6Iwp6"
      },
      "execution_count": 15,
      "outputs": []
    },
    {
      "cell_type": "code",
      "source": [
        "# 診療科目のユニーク\n",
        "df2[\"診療科目\"].unique()"
      ],
      "metadata": {
        "colab": {
          "base_uri": "https://localhost:8080/"
        },
        "id": "VGVewXGlPgn1",
        "outputId": "185b0c88-c61f-4c58-e791-9ba3a3a0f90a"
      },
      "execution_count": 16,
      "outputs": [
        {
          "output_type": "execute_result",
          "data": {
            "text/plain": [
              "array(['指定なし', '小児科', '島しょ部', '内科'], dtype=object)"
            ]
          },
          "metadata": {},
          "execution_count": 16
        }
      ]
    },
    {
      "cell_type": "code",
      "source": [
        "# 診療科目でグループ化\n",
        "grp = df2.groupby(\"診療科目\")"
      ],
      "metadata": {
        "id": "noMmszB3Iwxq"
      },
      "execution_count": 17,
      "outputs": []
    },
    {
      "cell_type": "markdown",
      "source": [
        "### 指定なし"
      ],
      "metadata": {
        "id": "gJV1mjD8QINC"
      }
    },
    {
      "cell_type": "code",
      "source": [
        "grp.get_group(\"指定なし\")[\"病院名\"].value_counts().plot.barh()"
      ],
      "metadata": {
        "colab": {
          "base_uri": "https://localhost:8080/",
          "height": 447
        },
        "id": "MlquQIXHNrtW",
        "outputId": "74603136-aadb-4ceb-ca4b-65991c1c4511"
      },
      "execution_count": 18,
      "outputs": [
        {
          "output_type": "execute_result",
          "data": {
            "text/plain": [
              "<Axes: >"
            ]
          },
          "metadata": {},
          "execution_count": 18
        },
        {
          "output_type": "display_data",
          "data": {
            "text/plain": [
              "<Figure size 640x480 with 1 Axes>"
            ],
            "image/png": "[encoded data removed]"
          },
          "metadata": {}
        }
      ]
    },
    {
      "cell_type": "markdown",
      "source": [
        "### 内科"
      ],
      "metadata": {
        "id": "NraLJrKTQLYY"
      }
    },
    {
      "cell_type": "code",
      "source": [
        "grp.get_group(\"内科\")[\"病院名\"].value_counts().plot.barh()"
      ],
      "metadata": {
        "colab": {
          "base_uri": "https://localhost:8080/",
          "height": 447
        },
        "id": "RQ8VjO4JPcli",
        "outputId": "23f6ab5c-434b-4ec7-9734-a09e15591181"
      },
      "execution_count": 19,
      "outputs": [
        {
          "output_type": "execute_result",
          "data": {
            "text/plain": [
              "<Axes: >"
            ]
          },
          "metadata": {},
          "execution_count": 19
        },
        {
          "output_type": "display_data",
          "data": {
            "text/plain": [
              "<Figure size 640x480 with 1 Axes>"
            ],
            "image/png": "[encoded data removed]"
          },
          "metadata": {}
        }
      ]
    },
    {
      "cell_type": "markdown",
      "source": [
        "### 小児科"
      ],
      "metadata": {
        "id": "xUyn-OmEQOaF"
      }
    },
    {
      "cell_type": "code",
      "source": [
        "grp.get_group(\"小児科\")[\"病院名\"].value_counts().plot.barh()"
      ],
      "metadata": {
        "colab": {
          "base_uri": "https://localhost:8080/",
          "height": 447
        },
        "id": "C1Bb7kkAPpm7",
        "outputId": "93e02493-bb01-43d5-f8e6-95a69dbcaa68"
      },
      "execution_count": 20,
      "outputs": [
        {
          "output_type": "execute_result",
          "data": {
            "text/plain": [
              "<Axes: >"
            ]
          },
          "metadata": {},
          "execution_count": 20
        },
        {
          "output_type": "display_data",
          "data": {
            "text/plain": [
              "<Figure size 640x480 with 1 Axes>"
            ],
            "image/png": "[encoded data removed]"
          },
          "metadata": {}
        }
      ]
    },
    {
      "cell_type": "markdown",
      "source": [
        "### 島しょ部"
      ],
      "metadata": {
        "id": "1mrHAEJnQRRe"
      }
    },
    {
      "cell_type": "code",
      "source": [
        "grp.get_group(\"島しょ部\")[\"病院名\"].value_counts().plot.barh()"
      ],
      "metadata": {
        "colab": {
          "base_uri": "https://localhost:8080/",
          "height": 447
        },
        "id": "keJmKobLPvQ6",
        "outputId": "79f5f4dc-024b-43b0-dfa9-98731df3115c"
      },
      "execution_count": 21,
      "outputs": [
        {
          "output_type": "execute_result",
          "data": {
            "text/plain": [
              "<Axes: >"
            ]
          },
          "metadata": {},
          "execution_count": 21
        },
        {
          "output_type": "display_data",
          "data": {
            "text/plain": [
              "<Figure size 640x480 with 1 Axes>"
            ],
            "image/png": "[encoded data removed]"
          },
          "metadata": {}
        }
      ]
    }
  ]
}